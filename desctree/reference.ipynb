{
 "metadata": {
  "name": "",
  "signature": "sha256:7a770f4a3c603e352cb49bde04ce94978150fc1ed65b79ac46371295630b7d98"
 },
 "nbformat": 3,
 "nbformat_minor": 0,
 "worksheets": [
  {
   "cells": [
    {
     "cell_type": "code",
     "collapsed": false,
     "input": [
      "import pandas as pd\n",
      "url = \"http://mlr.cs.umass.edu/ml/machine-learning-databases/iris/iris.data\"\n",
      "\n",
      "# See http://mlr.cs.umass.edu/ml/machine-learning-databases/iris/iris.names\n",
      "# for the header descriptions.\n",
      "headers = ['sepl', 'sepw', 'petl', 'petw', 'cl']  \n",
      "# limit to 150 since last line is empty\n",
      "iris = pd.read_csv(url, header=None, names=headers, nrows=150)\n",
      "print(iris.cl.unique())\n",
      "# drop 3rd species to make classification easier\n",
      "# Note: The others are perfectly separable using a single feature\n",
      "iris = iris[iris.cl != 'Iris-setosa']\n",
      "iris.cl = pd.Categorical.from_array(iris.cl).labels\n",
      "\n",
      "iris.describe()"
     ],
     "language": "python",
     "metadata": {},
     "outputs": [
      {
       "output_type": "stream",
       "stream": "stdout",
       "text": [
        "['Iris-setosa' 'Iris-versicolor' 'Iris-virginica']\n"
       ]
      },
      {
       "html": [
        "<div style=\"max-height:1000px;max-width:1500px;overflow:auto;\">\n",
        "<table border=\"1\" class=\"dataframe\">\n",
        "  <thead>\n",
        "    <tr style=\"text-align: right;\">\n",
        "      <th></th>\n",
        "      <th>sepl</th>\n",
        "      <th>sepw</th>\n",
        "      <th>petl</th>\n",
        "      <th>petw</th>\n",
        "      <th>cl</th>\n",
        "    </tr>\n",
        "  </thead>\n",
        "  <tbody>\n",
        "    <tr>\n",
        "      <th>count</th>\n",
        "      <td> 100.000000</td>\n",
        "      <td> 100.000000</td>\n",
        "      <td> 100.000000</td>\n",
        "      <td> 100.000000</td>\n",
        "      <td> 100.000000</td>\n",
        "    </tr>\n",
        "    <tr>\n",
        "      <th>mean</th>\n",
        "      <td>   6.262000</td>\n",
        "      <td>   2.872000</td>\n",
        "      <td>   4.906000</td>\n",
        "      <td>   1.676000</td>\n",
        "      <td>   0.500000</td>\n",
        "    </tr>\n",
        "    <tr>\n",
        "      <th>std</th>\n",
        "      <td>   0.662834</td>\n",
        "      <td>   0.332751</td>\n",
        "      <td>   0.825578</td>\n",
        "      <td>   0.424769</td>\n",
        "      <td>   0.502519</td>\n",
        "    </tr>\n",
        "    <tr>\n",
        "      <th>min</th>\n",
        "      <td>   4.900000</td>\n",
        "      <td>   2.000000</td>\n",
        "      <td>   3.000000</td>\n",
        "      <td>   1.000000</td>\n",
        "      <td>   0.000000</td>\n",
        "    </tr>\n",
        "    <tr>\n",
        "      <th>25%</th>\n",
        "      <td>   5.800000</td>\n",
        "      <td>   2.700000</td>\n",
        "      <td>   4.375000</td>\n",
        "      <td>   1.300000</td>\n",
        "      <td>   0.000000</td>\n",
        "    </tr>\n",
        "    <tr>\n",
        "      <th>50%</th>\n",
        "      <td>   6.300000</td>\n",
        "      <td>   2.900000</td>\n",
        "      <td>   4.900000</td>\n",
        "      <td>   1.600000</td>\n",
        "      <td>   0.500000</td>\n",
        "    </tr>\n",
        "    <tr>\n",
        "      <th>75%</th>\n",
        "      <td>   6.700000</td>\n",
        "      <td>   3.025000</td>\n",
        "      <td>   5.525000</td>\n",
        "      <td>   2.000000</td>\n",
        "      <td>   1.000000</td>\n",
        "    </tr>\n",
        "    <tr>\n",
        "      <th>max</th>\n",
        "      <td>   7.900000</td>\n",
        "      <td>   3.800000</td>\n",
        "      <td>   6.900000</td>\n",
        "      <td>   2.500000</td>\n",
        "      <td>   1.000000</td>\n",
        "    </tr>\n",
        "  </tbody>\n",
        "</table>\n",
        "<p>8 rows \u00d7 5 columns</p>\n",
        "</div>"
       ],
       "metadata": {},
       "output_type": "pyout",
       "prompt_number": 1,
       "text": [
        "             sepl        sepw        petl        petw          cl\n",
        "count  100.000000  100.000000  100.000000  100.000000  100.000000\n",
        "mean     6.262000    2.872000    4.906000    1.676000    0.500000\n",
        "std      0.662834    0.332751    0.825578    0.424769    0.502519\n",
        "min      4.900000    2.000000    3.000000    1.000000    0.000000\n",
        "25%      5.800000    2.700000    4.375000    1.300000    0.000000\n",
        "50%      6.300000    2.900000    4.900000    1.600000    0.500000\n",
        "75%      6.700000    3.025000    5.525000    2.000000    1.000000\n",
        "max      7.900000    3.800000    6.900000    2.500000    1.000000\n",
        "\n",
        "[8 rows x 5 columns]"
       ]
      }
     ],
     "prompt_number": 1
    },
    {
     "cell_type": "code",
     "collapsed": false,
     "input": [
      "# Split train/test set evenly across classes\n",
      "test_size = .4\n",
      "\n",
      "def select_test_set(A):\n",
      "    nrows = int(test_size * len(A))\n",
      "    A['testset'] = False\n",
      "    A['testset'][:nrows] = True\n",
      "    return A\n",
      "\n",
      "iris = iris.groupby('cl').apply(select_test_set)"
     ],
     "language": "python",
     "metadata": {},
     "outputs": [],
     "prompt_number": 2
    },
    {
     "cell_type": "code",
     "collapsed": false,
     "input": [
      "from sklearn import tree\n",
      "from sklearn import metrics\n",
      "\n",
      "clf = tree.DecisionTreeClassifier()\n",
      "trainset = iris[~iris.testset]\n",
      "clf = clf.fit(trainset[['sepl', 'sepw', 'petl', 'petw']].values,\n",
      "              trainset['cl'].values)"
     ],
     "language": "python",
     "metadata": {},
     "outputs": [],
     "prompt_number": 3
    },
    {
     "cell_type": "code",
     "collapsed": false,
     "input": [
      "testset = iris[iris.testset]\n",
      "Y_pred = clf.predict(testset[['sepl', 'sepw', 'petl', 'petw']].values)\n",
      "print(metrics.classification_report(testset.cl.values, Y_pred))"
     ],
     "language": "python",
     "metadata": {},
     "outputs": [
      {
       "output_type": "stream",
       "stream": "stdout",
       "text": [
        "             precision    recall  f1-score   support\n",
        "\n",
        "          0       0.91      1.00      0.95        20\n",
        "          1       1.00      0.90      0.95        20\n",
        "\n",
        "avg / total       0.95      0.95      0.95        40\n",
        "\n"
       ]
      }
     ],
     "prompt_number": 4
    },
    {
     "cell_type": "code",
     "collapsed": false,
     "input": [
      "# Export decission tree to pdf\n",
      "from sklearn.externals.six import StringIO\n",
      "import pydot\n",
      "\n",
      "dot_data = StringIO()\n",
      "tree.export_graphviz(clf, out_file=dot_data) \n",
      "graph = pydot.graph_from_dot_data(dot_data.getvalue()) \n",
      "graph.write_pdf('tree.pdf')"
     ],
     "language": "python",
     "metadata": {},
     "outputs": [
      {
       "output_type": "stream",
       "stream": "stderr",
       "text": [
        "/usr/lib/python2.7/dist-packages/pyparsing.py:3546: DeprecationWarning: Operator '<<' is deprecated, use '<<=' instead\n",
        "  ret << Group( Suppress(opener) + ZeroOrMore( ignoreExpr | ret | content ) + Suppress(closer) )\n",
        "/usr/lib/python2.7/dist-packages/dot_parser.py:471: DeprecationWarning: Operator '<<' is deprecated, use '<<=' instead\n",
        "  edge_point << Group( subgraph | graph_stmt | node_id ).setName('edge_point')\n",
        "/usr/lib/python2.7/dist-packages/dot_parser.py:477: DeprecationWarning: Operator '<<' is deprecated, use '<<=' instead\n",
        "  stmt_list << OneOrMore(stmt + Optional(semi.suppress()))\n"
       ]
      },
      {
       "metadata": {},
       "output_type": "pyout",
       "prompt_number": 10,
       "text": [
        "True"
       ]
      }
     ],
     "prompt_number": 10
    },
    {
     "cell_type": "code",
     "collapsed": false,
     "input": [
      "cols = ['cl', 'sepl', 'sepw', 'petl', 'petw']\n",
      "trainset[cols].to_csv('train.csv', header=False, index=False)\n",
      "testset[colsd].to_csv('test.csv', header=False, index=False)"
     ],
     "language": "python",
     "metadata": {},
     "outputs": [],
     "prompt_number": 19
    },
    {
     "cell_type": "code",
     "collapsed": false,
     "input": [
      "let fs = [(+1), (+2)]"
     ],
     "language": "python",
     "metadata": {},
     "outputs": [
      {
       "ename": "SyntaxError",
       "evalue": "invalid syntax (<ipython-input-25-225ea9e1dab3>, line 1)",
       "output_type": "pyerr",
       "traceback": [
        "\u001b[0;36m  File \u001b[0;32m\"<ipython-input-25-225ea9e1dab3>\"\u001b[0;36m, line \u001b[0;32m1\u001b[0m\n\u001b[0;31m    let fs = [(+1), (+2)]\u001b[0m\n\u001b[0m         ^\u001b[0m\n\u001b[0;31mSyntaxError\u001b[0m\u001b[0;31m:\u001b[0m invalid syntax\n"
       ]
      }
     ],
     "prompt_number": 25
    },
    {
     "cell_type": "code",
     "collapsed": false,
     "input": [
      "(fs ! 0) 2"
     ],
     "language": "python",
     "metadata": {},
     "outputs": [
      {
       "ename": "SyntaxError",
       "evalue": "invalid syntax (<ipython-input-24-e0e47d4a71ee>, line 1)",
       "output_type": "pyerr",
       "traceback": [
        "\u001b[0;36m  File \u001b[0;32m\"<ipython-input-24-e0e47d4a71ee>\"\u001b[0;36m, line \u001b[0;32m1\u001b[0m\n\u001b[0;31m    (fs ! 0) 2\u001b[0m\n\u001b[0m        ^\u001b[0m\n\u001b[0;31mSyntaxError\u001b[0m\u001b[0;31m:\u001b[0m invalid syntax\n"
       ]
      }
     ],
     "prompt_number": 24
    },
    {
     "cell_type": "code",
     "collapsed": false,
     "input": [],
     "language": "python",
     "metadata": {},
     "outputs": []
    }
   ],
   "metadata": {}
  }
 ]
}